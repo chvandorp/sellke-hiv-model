{
 "cells": [
  {
   "cell_type": "code",
   "execution_count": null,
   "metadata": {
    "collapsed": false
   },
   "outputs": [],
   "source": [
    "import xml.etree.ElementTree as ET\n",
    "file1 = open('data/epidemicsimulation.xml')\n",
    "tree1 = ET.parse(file1)\n",
    "root1 = tree1.getroot()\n",
    "PRE_SAMPLE_CONST1 = 1"
   ]
  },
  {
   "cell_type": "code",
   "execution_count": null,
   "metadata": {
    "collapsed": false
   },
   "outputs": [],
   "source": [
    "maxTime1 = 100\n",
    "\n",
    "samples1 = root1.findall(\"./sample\")\n",
    "if PRE_SAMPLE_CONST1 > 1:\n",
    "    samples1 = samples1[0::PRE_SAMPLE_CONST1]\n",
    "samples1 = filter(lambda sample: sample.attrib[\"spVLtrans\"] != 'NaN', samples1)\n",
    "samples1 = filter(lambda sample: float(sample.attrib[\"time\"]) <= maxTime1, samples1)\n",
    "times1 = [float(sample.attrib[\"time\"]) for sample in samples1]\n",
    "\n",
    "running_heritsSPVL1 = [float(sample.attrib[\"running_slopeSPVL\"]) for sample in samples1]\n",
    "running_meanSPVLs1 = [float(sample.attrib[\"running_meanSPVL\"]) for sample in samples1]\n",
    "running_incidence1 = [float(sample.attrib[\"running_incidence\"]) for sample in samples1]\n",
    "running_medianSPVL1 = [float(sample.attrib[\"running_medianSPVL\"]) for sample in samples1]\n",
    "running_top_percentileSPVL1 = [float(sample.attrib[\"running_top_percentileSPVL\"]) for sample in samples1]\n",
    "running_bottom_percentileSPVL1 = [float(sample.attrib[\"running_bottom_percentileSPVL\"]) for sample in samples1]\n",
    "\n",
    "running_heritsNoMuts1 = [float(sample.attrib[\"running_slopeNoMuts\"]) for sample in samples1]\n",
    "running_meanNoMuts1 = [float(sample.attrib[\"running_meanNoMuts\"]) for sample in samples1]\n",
    "running_medianNoMuts1 = [float(sample.attrib[\"running_medianNoMuts\"]) for sample in samples1]\n",
    "running_top_percentileNoMuts1 = [float(sample.attrib[\"running_top_percentileNoMuts\"]) for sample in samples1]\n",
    "running_bottom_percentileNoMuts1 = [float(sample.attrib[\"running_bottom_percentileNoMuts\"]) for sample in samples1]\n",
    "\n",
    "prevalences1 = [float(sample.attrib[\"prevalence\"]) for sample in samples1]\n",
    "popsizes1 = [float(sample.attrib[\"popsize\"]) for sample in samples1]\n",
    "spVLrec1 = [float(sample.attrib[\"spVLrec\"]) for sample in samples1]\n",
    "spVLtrans1 = [float(sample.attrib[\"spVLtrans\"]) for sample in samples1]\n",
    "numberOfMutationsTrans1 = [float(sample.attrib[\"numberOfMutationsTrans\"]) for sample in samples1]\n",
    "numberOfMutationsRec1 = [float(sample.attrib[\"numberOfMutationsRec\"]) for sample in samples1]\n",
    "dTrans1 = [float(sample.attrib[\"dTrans\"]) for sample in samples1]\n",
    "dRec1 = [float(sample.attrib[\"dRec\"]) for sample in samples1]\n",
    "\n",
    "popsize1 = root1.attrib[\"POPSIZE\"]"
   ]
  },
  {
   "cell_type": "code",
   "execution_count": null,
   "metadata": {
    "collapsed": false
   },
   "outputs": [],
   "source": [
    "%matplotlib inline\n",
    "\n",
    "import matplotlib.pyplot as plt\n",
    "import matplotlib\n",
    "matplotlib.rcParams.update({'font.size': 18})\n",
    "\n",
    "SAMPLE_CONST = 1\n",
    "\n",
    "def percentify(xs): return [x*100 for x in xs]\n",
    "def lighten(colarray,alpha):\n",
    "    return [1-alpha*(1-x) for x in colarray]\n",
    "\n",
    "blueList = [0.1,0.1,0.8]\n",
    "blackList = [0,0,0]\n",
    "\n",
    "alph1 = 0.2\n",
    "alph2 = 0.6\n",
    "\n",
    "fig = plt.figure(figsize=[8,10])\n",
    "ax1 = fig.add_subplot(411)\n",
    "ax2 = fig.add_subplot(412,sharex=ax1)\n",
    "ax3 = fig.add_subplot(413,sharex=ax1)\n",
    "ax4 = fig.add_subplot(414,sharex=ax1)\n",
    "\n",
    "rel_prevalences1 = [pr/float(popsize1) for pr in prevalences1]\n",
    "ax1.plot(times1,percentify(rel_prevalences1),color='black',linewidth=2.0)\n",
    "ax1.set_ylabel('prevalence (%)')\n",
    "ax1.set_ylim(percentify([0,1]))\n",
    "\n",
    "ax2.plot(times1,running_meanSPVLs1,linewidth=2.0,color=blueList)\n",
    "ax2.plot(times1,running_top_percentileSPVL1,linewidth=0.5,color=lighten(blueList,alph1))\n",
    "ax2.plot(times1,running_bottom_percentileSPVL1,linewidth=0.5,color=lighten(blueList,alph1))\n",
    "ax2.fill(times1 + times1[::-1],running_top_percentileSPVL1 + running_bottom_percentileSPVL1[::-1],color=lighten(blueList,alph1))\n",
    "ax2.scatter([times1[i] for i in range(0,len(times1),SAMPLE_CONST)],[spVLtrans1[i] for i in range(0,len(times1),SAMPLE_CONST)],0.5,color=lighten(blueList,alph2),zorder=2)\n",
    "ax2.set_ylim([2,10])\n",
    "ax2.set_ylabel(\"spVL\")\n",
    "##### draw a line at 4.52 in the spVL graph\n",
    "ax2.plot(times1,[4.52 for _ in times1],linewidth=2.0,color='black',linestyle='--')\n",
    "\n",
    "ax3.plot(times1,running_meanNoMuts1,linewidth=2.0,color=blackList)\n",
    "ax3.plot(times1,running_top_percentileNoMuts1,linewidth=0.5,color=lighten(blackList,alph1))\n",
    "ax3.plot(times1,running_bottom_percentileNoMuts1,linewidth=0.5,color=lighten(blackList,alph1))\n",
    "ax3.fill(times1 + times1[::-1],running_top_percentileNoMuts1 + running_bottom_percentileNoMuts1[::-1],color=lighten(blackList,alph1))\n",
    "ax3.scatter([times1[i] for i in range(0,len(times1),SAMPLE_CONST)],[numberOfMutationsTrans1[i] for i in range(0,len(times1),SAMPLE_CONST)],0.2,color=lighten(blackList,alph2),zorder=2)\n",
    "ax3.set_ylim([0,60])\n",
    "ax3.set_ylabel(\"# mutations\")\n",
    "\n",
    "ax4.plot(times1,percentify(running_heritsSPVL1),color=\"black\",linewidth=0.5)\n",
    "ax4.set_ylim(percentify([-0.1,0.4]))\n",
    "ax4.set_ylabel(\"heritability (%)\")\n",
    "ax4.set_xlabel('time (years)')\n",
    "ax4.set_xlim([0,maxTime1])\n",
    "ax4.set_xticks(range(0,int(maxTime1)+1,int(maxTime1+1)/10))\n",
    "\n",
    "### align the y-labels\n",
    "labelxpos = -0.08\n",
    "ax1.yaxis.set_label_coords(labelxpos, 0.5)\n",
    "ax2.yaxis.set_label_coords(labelxpos, 0.5)\n",
    "ax3.yaxis.set_label_coords(labelxpos, 0.5)\n",
    "ax4.yaxis.set_label_coords(labelxpos, 0.5)\n",
    "\n",
    "plt.setp(ax1.get_xticklabels(), visible=False)\n",
    "plt.setp(ax2.get_xticklabels(), visible=False)\n",
    "plt.setp(ax3.get_xticklabels(), visible=False)\n",
    "\n",
    "fig.tight_layout()\n",
    "\n",
    "fig.savefig('epidemic-plot.png')"
   ]
  },
  {
   "cell_type": "code",
   "execution_count": null,
   "metadata": {
    "collapsed": false
   },
   "outputs": [],
   "source": []
  }
 ],
 "metadata": {
  "kernelspec": {
   "display_name": "Python 2",
   "language": "python",
   "name": "python2"
  },
  "language_info": {
   "codemirror_mode": {
    "name": "ipython",
    "version": 2
   },
   "file_extension": ".py",
   "mimetype": "text/x-python",
   "name": "python",
   "nbconvert_exporter": "python",
   "pygments_lexer": "ipython2",
   "version": "2.7.12"
  }
 },
 "nbformat": 4,
 "nbformat_minor": 0
}
